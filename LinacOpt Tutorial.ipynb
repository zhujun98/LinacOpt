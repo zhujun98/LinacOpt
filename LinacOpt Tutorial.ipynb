{
 "cells": [
  {
   "cell_type": "markdown",
   "metadata": {},
   "source": [
    "***An Object-oriented Python optimizer used for linac optimization together with ASTRA and IMPACT-T***"
   ]
  },
  {
   "cell_type": "markdown",
   "metadata": {},
   "source": [
    "----\n",
    "# Definition of the optimization problem\n",
    "\n",
    "\\begin{equation}\n",
    "Min\\>f(x),\\>w.r.t.\\>x\\>\n",
    "\\end{equation}\n",
    "\\begin{equation}\n",
    "s.t.\\>g_i(x)<=0,\\>i = 1, ..., m\n",
    "\\end{equation}\n",
    "\\begin{equation}\n",
    "x_{j,lower} <= x_j <= x_{j, upper},\\>j=1,2,...,n\n",
    "\\end{equation}\n",
    "\n",
    "where:\n",
    "- $f(x)$ is a nonlinear function;\n",
    "- $g_i(x)$ is a group of linear or nonlinear functions;\n",
    "- $x_j$ is the vector of design variables;\n",
    "- $m$ is the number of constraints.\n",
    "- $n$ is the number of design variables;"
   ]
  },
  {
   "cell_type": "markdown",
   "metadata": {},
   "source": [
    "----\n",
    "# System requirements:\n",
    "\n",
    "- Linux (Ubuntu 14.04, 16.04)\n",
    "- Python2 > 2.7.6\n",
    "- [NumPy](http://www.numpy.org/), [Pandas](http://pandas.pydata.org/), [Scipy](https://www.scipy.org/scipylib/index.html)\n",
    "- [matplotlib](http://matplotlib.org/)(only for visualization)\n",
    "- [pyOpt](http://www.pyopt.org/)\n",
    "- [ASTRA](http://www.desy.de/~mpyflo/)\n",
    "- [IMPACT-T](http://portal.nersc.gov/project/m669/IMPACT-T/)\n",
    "\n",
    "**Note**\n",
    "- Set your system environment, **export PYTHONPATH=[your/path/for/LinacOpt/]**.\n",
    "- Do not use very deep directory to run the simulation. Otherwise the name of the output file may be truncated! (This seems to be a problem with FORTRAN)"
   ]
  },
  {
   "cell_type": "markdown",
   "metadata": {},
   "source": [
    "----\n",
    "# Modified pyOpt (not mandatory)\n",
    "**alpso.py** - Location in the original package: _pyopt/pyOpt/pyALPSO/alpso.py_\n",
    "\n",
    "The new file will let you know why the optimization converges and print out the value of the augmented Lagrangian term."
   ]
  },
  {
   "cell_type": "markdown",
   "metadata": {},
   "source": [
    "----\n",
    "# Optimizers\n",
    "\n",
    "Global optimizers: [ALPSO](http://www.pyopt.org/reference/optimizers.alpso.html#module-pyALPSO) and [NSGA2](http://www.pyopt.org/reference/optimizers.nsga2.html#module-pyNSGA2)\n",
    "\n",
    "Local search optimizers: [SDPEN](http://www.pyopt.org/reference/optimizers.sdpen.html#module-pySDPEN)\n",
    "\n",
    "_Tips for ALPSO optimizer:_\n",
    "- Convergence condition:\n",
    "```\n",
    "    if (abs(global_distance[0]-global_distance[stopIters-1]) <= \\\n",
    "      dtol*abs(global_distance[stopIters-1]) and \\\n",
    "      abs(global_L[0]-global_L[stopIters-1]) <= \\\n",
    "      rtol*abs(global_L[stopIters-1]) or \\\n",
    "      abs(global_L[0]-global_L[stopIters-1]) <= atol):\n",
    "      stop_criteria_flag = 1\n",
    "```\n",
    "    If the objective is a small number, one must change 'atol' otherwise the optimization will stop prematurely.\n",
    "\n",
    "- 'dynInnerIter' must be set to 1 in order to make minInnerIter take effect!"
   ]
  },
  {
   "cell_type": "markdown",
   "metadata": {},
   "source": [
    "----\n",
    "# Examples\n",
    "\n",
    "  Three examples are included in the current release: astra_basic, astra_advanced, impact_basic."
   ]
  },
  {
   "cell_type": "markdown",
   "metadata": {},
   "source": [
    "## Basic steps for running an optimization."
   ]
  },
  {
   "cell_type": "markdown",
   "metadata": {},
   "source": [
    "### Step 1: Assign system path and import modules"
   ]
  },
  {
   "cell_type": "code",
   "execution_count": 1,
   "metadata": {
    "collapsed": true
   },
   "outputs": [],
   "source": [
    "import sys\n",
    "import os\n",
    "sys.path.append(os.path.expanduser('~') + \"/myscripts/linac_optimization/\")\n",
    "\n",
    "from linac_opt import LinacOpt"
   ]
  },
  {
   "cell_type": "markdown",
   "metadata": {},
   "source": [
    "### Step 2: Instantiate the optimization"
   ]
  },
  {
   "cell_type": "code",
   "execution_count": 2,
   "metadata": {
    "collapsed": false
   },
   "outputs": [],
   "source": [
    "opt_test = LinacOpt(path_name='examples/astra_basic',\n",
    "                    input_file='injector.in',\n",
    "                    input_template='injector.in.000',\n",
    "                    particle_type='astra',\n",
    "                    prob_name='opt_test')"
   ]
  },
  {
   "cell_type": "markdown",
   "metadata": {},
   "source": [
    "### Step 3: Set up the optimizer"
   ]
  },
  {
   "cell_type": "code",
   "execution_count": 3,
   "metadata": {
    "collapsed": false
   },
   "outputs": [],
   "source": [
    "opt_test.set_optimizer('sdpen')\n",
    "opt_test.optimizer.setOption('alfa_stop', 1e-2)\n",
    "opt_test.optimizer.setOption('iprint', 0)\n",
    "opt_test.optimizer.setOption('nf_max', 5000)"
   ]
  },
  {
   "cell_type": "markdown",
   "metadata": {},
   "source": [
    "### Step 4: Set fit-points"
   ]
  },
  {
   "cell_type": "code",
   "execution_count": 4,
   "metadata": {
    "collapsed": false
   },
   "outputs": [],
   "source": [
    "opt_test.fit_points.set_point('out', 'injector.0600.001')"
   ]
  },
  {
   "cell_type": "markdown",
   "metadata": {},
   "source": [
    "### Step 5: Set objective"
   ]
  },
  {
   "cell_type": "code",
   "execution_count": 5,
   "metadata": {
    "collapsed": true
   },
   "outputs": [],
   "source": [
    "def f1(fits):\n",
    "    return fits.out.emitx*1.e6\n",
    "opt_test.opt_prob.set_obj('emitx_um', f1)"
   ]
  },
  {
   "cell_type": "markdown",
   "metadata": {},
   "source": [
    "### Step 6: Set constraint"
   ]
  },
  {
   "cell_type": "code",
   "execution_count": 6,
   "metadata": {
    "collapsed": true
   },
   "outputs": [],
   "source": [
    "def g1(fits):\n",
    "    return fits.out.n0\n",
    "opt_test.opt_prob.set_con('npar', g1, equal=500)"
   ]
  },
  {
   "cell_type": "markdown",
   "metadata": {},
   "source": [
    "### Step 7: Add variables\n"
   ]
  },
  {
   "cell_type": "code",
   "execution_count": 7,
   "metadata": {
    "collapsed": true
   },
   "outputs": [],
   "source": [
    "opt_test.opt_prob.set_var('laser_spot', value=0.2, lower=0.1, upper=0.5)\n",
    "opt_test.opt_prob.set_var('hc_sole_b', value=0.0, lower=0.0, upper=1.0)\n",
    "opt_test.opt_prob.set_var('main_sole_b', value=0.0, lower=0.0, upper=0.4)\n",
    "opt_test.opt_prob.set_var('tws1_sole_b', value=0.0, lower=0.0, upper=0.1)\n",
    "opt_test.opt_prob.set_var('tws2_sole_b', value=0.0, lower=0.0, upper=0.1)"
   ]
  },
  {
   "cell_type": "markdown",
   "metadata": {},
   "source": [
    "### Step 8: Run the optimization\n"
   ]
  },
  {
   "cell_type": "code",
   "execution_count": 8,
   "metadata": {
    "collapsed": false
   },
   "outputs": [
    {
     "name": "stdout",
     "output_type": "stream",
     "text": [
      "File removed: opt_test.log.000\n",
      "File removed: opt_test.sol.000\n",
      "File removed: opt_test.sol.000.pkl\n",
      "\n",
      "********************************************************************************\n",
      "Start solving the following problem with pyOpt.SDPEN on \n",
      "astra /home/jun/myscripts/linac_opt/examples/astra_basic/injector.in\n",
      "********************************************************************************\n",
      "\n",
      "Optimization Problem -- opt_test-2017-02-01-09-13-41\n",
      "================================================================================\n",
      "\n",
      "Objectives:\n",
      "  Name                Value        Optimum      Function        \n",
      "  emitx_um             0.0000e+00  -1.0000e+21  f1              \n",
      "\n",
      "Constraints:\n",
      "  Name                Value        Bound                                           \n",
      "  npar                 0.0000e+00  5.0000e+02 - 0.0000e+00 <= g1() <= 5.0000e+02 + 0.0000e+00\n",
      "\n",
      "Variables (c - continuous, i - integer, d - discrete):\n",
      "  Name                Type    Value        Lower Bound  Upper Bound\n",
      "  laser_spot          c        2.0000e-01   1.0000e-01   5.0000e-01\n",
      "  hc_sole_b           c        0.0000e+00   0.0000e+00   1.0000e+00\n",
      "  main_sole_b         c        0.0000e+00   0.0000e+00   4.0000e-01\n",
      "  tws1_sole_b         c        0.0000e+00   0.0000e+00   1.0000e-01\n",
      "  tws2_sole_b         c        0.0000e+00   0.0000e+00   1.0000e-01\n",
      " \n",
      "Fit points:\n",
      "  Name                File              Type          Cut halo      Cut tail    \n",
      "  out                 injector.0600.001  astra         None          None        \n",
      " \n",
      "Sections:\n",
      "  Name                Root name         Type          z_lim (m)       \n",
      "\n",
      "\n",
      "Solution with optimizer pyOpt.SDPEN on \n",
      "astra /home/jun/myscripts/linac_opt/examples/astra_basic/injector.in\n",
      "Total time - 0:01:43.483742\n",
      "Optimization Problem -- opt_test-2017-02-01-09-13-41\n",
      "================================================================================\n",
      "\n",
      "Objectives:\n",
      "  Name                Value        Optimum      Function        \n",
      "  emitx_um             9.9281e-02  -1.0000e+21  f1              \n",
      "\n",
      "Constraints:\n",
      "  Name                Value        Bound                                           \n",
      "  npar                 5.0000e+02  5.0000e+02 - 0.0000e+00 <= g1() <= 5.0000e+02 + 0.0000e+00\n",
      "\n",
      "Variables (c - continuous, i - integer, d - discrete):\n",
      "  Name                Type    Value        Lower Bound  Upper Bound\n",
      "  laser_spot          c        1.0000e-01   1.0000e-01   5.0000e-01\n",
      "  hc_sole_b           c        6.0000e-01   0.0000e+00   1.0000e+00\n",
      "  main_sole_b         c        6.4000e-02   0.0000e+00   4.0000e-01\n",
      "  tws1_sole_b         c        4.0000e-03   0.0000e+00   1.0000e-01\n",
      "  tws2_sole_b         c        0.0000e+00   0.0000e+00   1.0000e-01\n",
      "\n",
      "Fit points:\n",
      "  Name                File              Type          Cut halo      Cut tail    \n",
      "  out                 injector.0600.001  astra         None          None        \n",
      "\n",
      "Sections:\n",
      "  Name                Root name         Type          z_lim (m)       \n",
      "\n"
     ]
    }
   ],
   "source": [
    "opt_test.solve('astra')"
   ]
  },
  {
   "cell_type": "markdown",
   "metadata": {},
   "source": [
    "----\n",
    "# Output"
   ]
  },
  {
   "cell_type": "markdown",
   "metadata": {},
   "source": [
    "**General output:**\n",
    "- prob_name.log.???: History of the optimization. ??? is the No. of step.\n",
    "- prob_name.sol.???: Summary of the solution.\n",
    "- prob_name.sol.???.pkl: Pickle file used for starting from a intermediate step.\n",
    "- input_file: The input file will be filled with the optimized parameters.\n",
    "\n",
    "**Output from specific optimizers:**\n",
    "- ALPSO: ALPSO_print.out\n",
    "- SDPEN: SDPEN.out.???"
   ]
  },
  {
   "cell_type": "markdown",
   "metadata": {},
   "source": [
    "----\n",
    "# Visualization"
   ]
  },
  {
   "cell_type": "markdown",
   "metadata": {},
   "source": [
    "## Phase-space plot"
   ]
  },
  {
   "cell_type": "code",
   "execution_count": 1,
   "metadata": {
    "collapsed": false
   },
   "outputs": [
    {
     "name": "stdout",
     "output_type": "stream",
     "text": [
      "n                   charge (C)          p                   I_peak (A)      \n",
      "      5.0000e+02          2.0000e-11          1.8954e+02          3.1735e+00\n",
      "\n",
      "emitx (m)           emity (m)           Sx (m)              Sy (m)          \n",
      "      9.9281e-08          9.9786e-08          9.3570e-05          9.3576e-05\n",
      "\n",
      "betax (m)           betay (m)           alphax              alphay          \n",
      "      1.6708e+01          1.6624e+01          4.1267e+00          4.0911e+00\n",
      "\n",
      "St (m)              Sdelta              chirp (1/m)         Ct (s)          \n",
      "      2.3457e-12          1.3686e-03          4.4739e-01         -1.5088e-24\n",
      "\n",
      "emitx_slice (m)     emity_slice         Sdelta_slice        St_slice        \n",
      "      9.3915e-08          1.0004e-07          3.7156e-05          1.7236e-13\n",
      "\n",
      "Cx (m)              Cy (m)              Cxp (rad)           Cyp (rad)       \n",
      "     -6.8991e-08          9.6897e-09         -3.1430e-08         -1.2854e-09\n",
      "\n",
      "emitx_tr (m)        emity_tr (m)        Sdelta_un       \n",
      "      9.9326e-08          9.9842e-08          4.7519e-06\n",
      "\n"
     ]
    }
   ],
   "source": [
    "from beam_plots import PhaseSpacePlot\n",
    "\n",
    "p1 = PhaseSpacePlot('examples/astra_basic/injector.0600.001', 'astra')\n",
    "print p1"
   ]
  },
  {
   "cell_type": "code",
   "execution_count": 5,
   "metadata": {
    "collapsed": false
   },
   "outputs": [
    {
     "data": {
      "image/png": "[encoded data removed]",
      "text/plain": [
       "<matplotlib.figure.Figure at 0x7f99f090ad10>"
      ]
     },
     "metadata": {},
     "output_type": "display_data"
    }
   ],
   "source": [
    "p1.plot('x', 'xp', density_plot=False, marker_color='firebrick', marker_size=5, alpha=0.5)"
   ]
  },
  {
   "cell_type": "code",
   "execution_count": 22,
   "metadata": {
    "collapsed": false
   },
   "outputs": [
    {
     "data": {
      "image/png": "[encoded data removed]",
      "text/plain": [
       "<matplotlib.figure.Figure at 0x7f99edfc4c10>"
      ]
     },
     "metadata": {},
     "output_type": "display_data"
    }
   ],
   "source": [
    "p1.plot('x', 'xp')"
   ]
  },
  {
   "cell_type": "code",
   "execution_count": 21,
   "metadata": {
    "collapsed": false
   },
   "outputs": [
    {
     "data": {
      "image/png": "[encoded data removed]",
      "text/plain": [
       "<matplotlib.figure.Figure at 0x7f99f090acd0>"
      ]
     },
     "metadata": {},
     "output_type": "display_data"
    }
   ],
   "source": [
    "p1.update(current_bins='auto', filter_sigma=1)\n",
    "p1.plot('t', 'p', x_unit='ps', y1_unit='A', bins_2d=500, sigma_2d=5)"
   ]
  },
  {
   "cell_type": "markdown",
   "metadata": {},
   "source": [
    "## Line plot"
   ]
  },
  {
   "cell_type": "code",
   "execution_count": 9,
   "metadata": {
    "collapsed": false
   },
   "outputs": [],
   "source": [
    "from beam_plots import LinePlot\n",
    "\n",
    "l1 = LinePlot('examples/astra_basic/injector', 'astra')"
   ]
  },
  {
   "cell_type": "code",
   "execution_count": 10,
   "metadata": {
    "collapsed": false
   },
   "outputs": [
    {
     "data": {
      "image/png": "[encoded data removed]",
      "text/plain": [
       "<matplotlib.figure.Figure at 0x7f99ee0b4550>"
      ]
     },
     "metadata": {},
     "output_type": "display_data"
    }
   ],
   "source": [
    "l1.plot('emitx')"
   ]
  },
  {
   "cell_type": "code",
   "execution_count": 14,
   "metadata": {
    "collapsed": false
   },
   "outputs": [
    {
     "data": {
      "image/png": "[encoded data removed]",
      "text/plain": [
       "<matplotlib.figure.Figure at 0x7f99eddaea90>"
      ]
     },
     "metadata": {},
     "output_type": "display_data"
    }
   ],
   "source": [
    "l1.plot(['Sx', 'Sy'])"
   ]
  },
  {
   "cell_type": "markdown",
   "metadata": {},
   "source": [
    "----\n",
    "# Class definition"
   ]
  },
  {
   "cell_type": "markdown",
   "metadata": {},
   "source": [
    "```\n",
    "class LinacOpt(LinacOptData):\n",
    "    def __init__(self, path_name=None, input_file=None, input_template=None,\n",
    "                 particle_type=None, prob_name='opt_prob',\n",
    "                 restart=None, run_once=False, max_fail=10):\n",
    "        \"\"\"Initialization.\n",
    "\n",
    "        Parameters\n",
    "        ----------\n",
    "        path_name: string\n",
    "            Path of the simulation directory.\n",
    "        input_file: string\n",
    "            Name of the input file.\n",
    "        input_template: string\n",
    "            Name of the input template file. The patterns (<string>) in\n",
    "            the template file will be replaced at the beginning of\n",
    "            each simulation to generate a new input file.\n",
    "        particle_type: string\n",
    "            Type of the particle file (corresponding code name).\n",
    "        prob_name: string\n",
    "            Root name of log_file and solution_file, default = 'opt_prob'.\n",
    "        restart: None/int\n",
    "            None for new run and int for restarting from the\n",
    "            restart-th run.\n",
    "        run_once: Boolean\n",
    "            True for stopping after one simulation. For debug.\n",
    "        max_fail: int\n",
    "            Max number of allowed consecutive fails.\n",
    "        \"\"\"\n",
    "```"
   ]
  },
  {
   "cell_type": "markdown",
   "metadata": {},
   "source": [
    "```\n",
    "class FitPoints(object):\n",
    "    \"\"\"Object with attributes being PhaseSpace objects\"\"\"\n",
    "    def __init__(self, particle_type):\n",
    "        self.particle_type = particle_type\n",
    "        \n",
    "    def set_point(self, name, particle_file, particle_type=None, **kwargs):\n",
    "        \"\"\"Add a PhaseSpace object as an attribute\n",
    "\n",
    "        Parameters\n",
    "        ----------\n",
    "        name: string\n",
    "            Name of the new attribute.\n",
    "        particle_file: string\n",
    "            Name of the particle file.\n",
    "        particle_type: string\n",
    "            Type of the particle file.\n",
    "            \n",
    "        Additional keyword arguments are passed to PhaseSpace.__init__().\n",
    "        \"\"\"\n",
    "\n",
    "    def del_point(self, name):\n",
    "        \"\"\"Delete a point by name.\n",
    "\n",
    "        Parameters\n",
    "        ----------\n",
    "        name: string\n",
    "            Name of the new attribute.\n",
    "        \"\"\"\n",
    "\n",
    "\n",
    "class PhaseSpace(LinacOptData):\n",
    "    \"\"\"Store the particle phase-space data and parameters\n",
    "    \n",
    "    Attributes\n",
    "    ----------\n",
    "    data: pandas.DataFrame object\n",
    "        Columns: x (m), y (m), z (m), px, py, t (s, dt), p (mc)\n",
    "\n",
    "    slice_percent: float\n",
    "        Percentage of particle for slice parameters calculation.\n",
    "    cut_halo: None/float\n",
    "        Percentage of halo to be cut.\n",
    "    cut_tail: None/float\n",
    "        Percentage of tail to be cut.\n",
    "\n",
    "    n0: int\n",
    "        Number of particles in the original file.\n",
    "    n: int\n",
    "        Number of particles.\n",
    "    p: float\n",
    "        Average normalized momentum.\n",
    "    gamma: float\n",
    "        Average Lorentz factor.\n",
    "    chirp: float\n",
    "        Energy chirp (1/m), defined as -<z*delta>/<z^2>.\n",
    "    Sdelta: float\n",
    "        Fractional energy spread.\n",
    "    Sdelta_slice: float\n",
    "        Fractional slice energy spread.\n",
    "    St: float\n",
    "        RMS bunch duration (s).\n",
    "    St_slice: float\n",
    "        RMS slice bunch duration (s).\n",
    "    Sz: float\n",
    "        RMS bunch length (m).\n",
    "    I_peak: float\n",
    "        Peak current (A).\n",
    "    Sdelta_un: float\n",
    "        Uncorrelated momentum spread.\n",
    "    emitx/emity: float\n",
    "        Normalized horizontal/vertical emittance (m.rad).\n",
    "    emitx_slice/emity_slice: float\n",
    "        Normalized horizontal/vertical slice emittance (m.rad).\n",
    "    Sx/Sy: float\n",
    "        RMS horizontal/vertical beam size (m).\n",
    "    betax/betay: float\n",
    "        Horizontal/vertical beta function (m).\n",
    "    alphax/alphay: float\n",
    "        Horizontal/vertical alpha function (m).\n",
    "    emitx_tr/emity_tr: float\n",
    "        Normalized horizontal/vertical trace space emittance (m.rad)\n",
    "    Cx/Cy: float\n",
    "        Horizontal/vertical displacement (m).\n",
    "    Cxp/Cyp: float\n",
    "        Horizontal/vertical divergence (rad).\n",
    "    Ct: float\n",
    "        Average timing (s).\n",
    "        \n",
    "    def __init__(self, particle_file, particle_type, charge=0.0, q_norm=None,\n",
    "                 slice_percent=0.1, cut_halo=None, cut_tail=None, opt=False):\n",
    "        \"\"\"\n",
    "        Parameters\n",
    "        ----------\n",
    "        particle_file: string\n",
    "            Name of the particle file.\n",
    "        particle_type: string\n",
    "            Type of the particle file.\n",
    "        charge: int/float\n",
    "            Charge of the beam (in C). Only for Impact data.\n",
    "            Ignored if q_norm is given.\n",
    "        q_norm: int/float\n",
    "            Charge per macro-particle.\n",
    "        slice_percent: float\n",
    "            Percentage of particles for slice properties.\n",
    "        cut_halo: None/float\n",
    "            Percentage of particles to be removed based on their\n",
    "            transverse distance to the bunch centroid.\n",
    "        cut_tail: None/float\n",
    "            Percentage of particles to be removed based on their\n",
    "            longitudinal distance to the bunch centroid.\n",
    "        opt: Boolean\n",
    "            True for the initialization of the fit-points in linac_opt.\n",
    "            Since there is no output, an error will occur if the update\n",
    "            method is called. Default is False.\n",
    "        \"\"\"\n",
    "        \n",
    "    def update(self, current_bins='auto', filter_sigma=1):\n",
    "        \"\"\"Read the phase-space and calculate the beam parameters\n",
    "\n",
    "        Parameters\n",
    "        ----------\n",
    "        current_bins: int/'auto'\n",
    "            No. of bins to calculate the current profile. Only affect\n",
    "            the calculation of the peak current.\n",
    "        filter_sigma: int/float\n",
    "            Standard deviation of the Gaussian kernel of the 1D Gaussian filter.\n",
    "        \"\"\"\n",
    "```"
   ]
  },
  {
   "cell_type": "markdown",
   "metadata": {},
   "source": [
    "```\n",
    "class BeamEvolution(LinacOptData):\n",
    "    \"\"\"Store the beam evolution and its statistics\n",
    "\n",
    "    Attributes\n",
    "    ----------\n",
    "    data: pandas.DataFrame object\n",
    "        z (m), gamma, SdE (eV), Sx (m), Sy (m), Sz (m),\n",
    "        emitx (m.rad), emity (m.rad), emitz (m.rad),\n",
    "        emitx_tr (m.rad), emity_tr (m.rad),\n",
    "        betax (m), betay (m), alphax, alphay\n",
    "\n",
    "    z: Stats object\n",
    "        Longitudinal position (m).\n",
    "    gamma: Stats object\n",
    "        Lorentz factor.\n",
    "    SdE: Stats object\n",
    "        RMS energy spread (eV).\n",
    "    Sx/Sy/Sz: Stats objects\n",
    "        RMS bunch sizes (m).\n",
    "    betax/betay: Stats objects\n",
    "        Beta functions (m).\n",
    "    alphax/alphay: Stats objects\n",
    "        Alpha functions.\n",
    "    emitx/emity: Stats objects\n",
    "        Normalized canonical emittance (m.rad).\n",
    "    emitx_tr/emity_tr: Stats objects\n",
    "        Normalized trace-space emittance (m.rad).\n",
    "    \"\"\"\n",
    "    def __init__(self, root_name, particle_type, z_lim=None, opt=False):\n",
    "        \"\"\"Initialize BeamStats object\n",
    "\n",
    "        Parameters\n",
    "        ----------\n",
    "        root_name: string\n",
    "            The root name of the output files. For Impact-T files,\n",
    "            root_name will be set to 'fort' if not given.\n",
    "        particle_type: string\n",
    "            Type of the particle file.\n",
    "        z_lim: scalar/tuple\n",
    "            If None, passed as (-INF, INF)\n",
    "            if scalar, being passed as (left, INF)\n",
    "            if tuple, the first two elements being passed as (left, right)\n",
    "        opt: Boolean\n",
    "            True for the initialization of the fit-points in linac_opt.\n",
    "            Since there is no output, an error will occur if the update\n",
    "            method is called. Default is False.\n",
    "        \"\"\"\n",
    "\n",
    "\n",
    "class Stats(object):\n",
    "    \"\"\"Store the statistic values of an array-like object.\n",
    "\n",
    "    Attributes\n",
    "    ----------\n",
    "    start: float\n",
    "        First value.\n",
    "    end: float\n",
    "        Last value.\n",
    "    max: float\n",
    "        Maximum value.\n",
    "    min: float\n",
    "        Minimum value.\n",
    "    ave: float\n",
    "        Average value.\n",
    "    std: float\n",
    "        Standard deviation.\n",
    "    \"\"\"\n",
    "\n",
    "\n",
    "class Sections(object):\n",
    "    \"\"\"Object with attributes being BeamEvolution objects\"\"\"\n",
    "    def set_section(self, name, root_name=None, particle_type=None, **kwargs):\n",
    "        \"\"\"Add a BeamEvolution object as an attribute\n",
    "\n",
    "        Parameters\n",
    "        ----------\n",
    "        name: string\n",
    "            Name of the new attribute.\n",
    "        root_name: string\n",
    "            The root name of the output files.\n",
    "        particle_type: string\n",
    "            Type of the particle file.\n",
    "            \n",
    "        Additional keyword arguments are passed to BeamEvolution.__init__().\n",
    "        \"\"\"\n",
    "        try:\n",
    "            self.__delattr__(name)\n",
    "            print \"\\nWarning: section {} will be replaced!\".format(name)\n",
    "        except AttributeError:\n",
    "            pass\n",
    "\n",
    "        if root_name is None:\n",
    "            root_name = self.root_name\n",
    "\n",
    "        if particle_type is None:\n",
    "            particle_type = self.particle_type\n",
    "\n",
    "        this_section = BeamEvolution(root_name, particle_type, opt=True, **kwargs)\n",
    "        super(Sections, self).__setattr__(name, this_section)\n",
    "\n",
    "    def del_section(self, name):\n",
    "        \"\"\"Delete a section by name.\n",
    "\n",
    "        Parameters\n",
    "        ----------\n",
    "        name: string\n",
    "            Name of the new attribute.\n",
    "        \"\"\"\n",
    "        super(Sections, self).__delattr__(name)\n",
    "```"
   ]
  },
  {
   "cell_type": "markdown",
   "metadata": {},
   "source": [
    "```\n",
    "class Objective(pyOptObjective):\n",
    "    \"\"\"Inherited from pyOpt.Objective class.\n",
    "\n",
    "    Each Objective object has a function attribute which calculates \n",
    "    its value.\n",
    "    \"\"\"\n",
    "\n",
    "    def __init__(self, name, func=None, optimum=-1.0e21):\n",
    "        \"\"\"Initialize Objective object\n",
    "\n",
    "        Parameters\n",
    "        ----------\n",
    "        func: function object\n",
    "            Objective function.\n",
    "        optimum: None/float\n",
    "            The object of the objective.\n",
    "        \"\"\"\n",
    "```"
   ]
  },
  {
   "cell_type": "markdown",
   "metadata": {},
   "source": [
    "```\n",
    "class Constraint(pyOptConstraint):\n",
    "    \"\"\"Inherited from pyOpt.Constraint class.\n",
    "\n",
    "    One can specify one of the three constraint formats:\n",
    "    [-INF, upper], [lower, INF] and [equal - tol, equal + tol]\n",
    "    \"\"\"\n",
    "    def __init__(self, name, func=None, **kwargs):\n",
    "        \"\"\"Initialize Constraint object.\n",
    "\n",
    "        Parameters\n",
    "        ----------\n",
    "        func: function object\n",
    "            Name of the constraint function.\n",
    "        upper: float\n",
    "            Upper boundary, ignored if lower if specified.\n",
    "        lower: float\n",
    "            Lower boundary.\n",
    "        equal: float\n",
    "            Equal boundary.\n",
    "        tol: float\n",
    "            Tolerance for equal boundary; negative number for percent,\n",
    "            positive number for absolute value.\n",
    "\n",
    "        Note: the attributes 'lower' and 'upper' in the pyOpt.constraint\n",
    "        object does not take effect. In the new Constraint object,\n",
    "        the normalize() method will convert the value corresponding to\n",
    "        a constraint type of (-INF, 0] which can then pass to pyOpt.\n",
    "        \"\"\"\n",
    "```"
   ]
  },
  {
   "cell_type": "markdown",
   "metadata": {},
   "source": [
    "```\n",
    "class Variable(pyOptVariable):\n",
    "    \"\"\"Inherited from pyOpt.Variable class\"\"\"\n",
    "    def __init__(self, name, **kwargs):\n",
    "        \"\"\"Initialize Constraint object.\n",
    "\n",
    "        Parameters\n",
    "        ----------\n",
    "        type: string\n",
    "            Variable Type ('c'-continuous, 'i'-integer, 'd'-discrete),\n",
    "            *Default* = 'c'\n",
    "        value: int/float\n",
    "            Variable Value, *Default* = 0.0\n",
    "        upper: int/float\n",
    "            Upper boundary.\n",
    "        lower: int/float\n",
    "            Lower boundary.\n",
    "        \"\"\"\n",
    "        \n",
    "\n",
    "class CoVariable(object):\n",
    "    \"\"\"Optimization CoVariable class.\"\"\"\n",
    "    def __init__(self, name, var_dp, **kwargs):\n",
    "        \"\"\"Initialize CoVariable object\n",
    "\n",
    "        The value of the variable is calculated by:\n",
    "        covar = [slope].*[value of var_dp] + intercept\n",
    "\n",
    "        Parameters\n",
    "        ----------\n",
    "        name: string\n",
    "            Name of the co-variable.\n",
    "        var_dep: string/list\n",
    "            Name(s) of the dependent variable(s).\n",
    "        slope: int/float/list\n",
    "            Coefficient(s) in calculation.\n",
    "        intercept: int/float\n",
    "            Coefficient in calculation.\n",
    "        \"\"\"\n",
    "        \n",
    "class StaticVariable(object):\n",
    "    \"\"\"Optimization StaticVariable class\n",
    "\n",
    "    Static variable is useful when running concatenate simulations.\n",
    "    \"\"\"\n",
    "\n",
    "    def __init__(self, name, value=None):\n",
    "        \"\"\"Initialize StaticVariable object\n",
    "\n",
    "        Parameters\n",
    "        ----------\n",
    "        name: string\n",
    "            Name of the static variable.\n",
    "        value: int/float\n",
    "            Value of the static variable. The value will be ignored\n",
    "            if a variable with the same name is found in the variable\n",
    "            set or co-variable set of the solution.\n",
    "        \"\"\"\n",
    "```"
   ]
  },
  {
   "cell_type": "markdown",
   "metadata": {},
   "source": [
    "```\n",
    "def solve(self, run_code=None):\n",
    "    \"\"\"Run the optimization and print the result.\n",
    "\n",
    "    Parameters\n",
    "    ----------\n",
    "    run_code: string\n",
    "        String that can run the code in the shell.\n",
    "    \"\"\"\n",
    "```"
   ]
  }
 ],
 "metadata": {
  "kernelspec": {
   "display_name": "Python 2",
   "language": "python",
   "name": "python2"
  },
  "language_info": {
   "codemirror_mode": {
    "name": "ipython",
    "version": 2
   },
   "file_extension": ".py",
   "mimetype": "text/x-python",
   "name": "python",
   "nbconvert_exporter": "python",
   "pygments_lexer": "ipython2",
   "version": "2.7.12"
  },
  "latex_metadata": {
   "affiliation": "DESY, Germany",
   "author": "Jun Zhu",
   "title": "LinacOpt Tutorial"
  }
 },
 "nbformat": 4,
 "nbformat_minor": 0
}
